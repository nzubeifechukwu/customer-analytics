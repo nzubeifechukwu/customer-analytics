{
 "cells": [
  {
   "cell_type": "markdown",
   "metadata": {},
   "source": [
    "# Customer Analytics: Preparing Data for Modeling"
   ]
  },
  {
   "cell_type": "markdown",
   "metadata": {},
   "source": [
    "A common problem when creating models to generate business value from data is that the datasets can be so large that it can take days for the model to generate predictions. Ensuring that your dataset is stored as efficiently as possible is crucial for allowing these models to run on a more reasonable timescale without having to reduce the size of the dataset.\n",
    "\n",
    "In this project, I apply my knowledge of data types and categorical data to prepare, transform and efficiently store a dataset of trainees at a hypothetical data science training provider for data modeling.\n",
    "\n",
    "The idea and dataset for this project are from [this DataCamp project](https://app.datacamp.com/learn/projects/1600).\n",
    "\n",
    "A summary of the features in the dataset is given in [this data dictionary](data_dictionary.ipynb)."
   ]
  },
  {
   "cell_type": "markdown",
   "metadata": {},
   "source": [
    "## Load and inspect data"
   ]
  },
  {
   "cell_type": "code",
   "execution_count": 1,
   "metadata": {},
   "outputs": [],
   "source": [
    "# Import libraries\n",
    "import pandas as pd\n",
    "import numpy as np"
   ]
  },
  {
   "cell_type": "code",
   "execution_count": 3,
   "metadata": {},
   "outputs": [
    {
     "name": "stdout",
     "output_type": "stream",
     "text": [
      "<class 'pandas.core.frame.DataFrame'>\n",
      "RangeIndex: 19158 entries, 0 to 19157\n",
      "Data columns (total 14 columns):\n",
      "student_id                19158 non-null int64\n",
      "city                      19158 non-null object\n",
      "city_development_index    19158 non-null float64\n",
      "gender                    14650 non-null object\n",
      "relevant_experience       19158 non-null object\n",
      "enrolled_university       18772 non-null object\n",
      "education_level           18698 non-null object\n",
      "major_discipline          16345 non-null object\n",
      "experience                19093 non-null object\n",
      "company_size              13220 non-null object\n",
      "company_type              13018 non-null object\n",
      "last_new_job              18735 non-null object\n",
      "training_hours            19158 non-null int64\n",
      "job_change                19158 non-null float64\n",
      "dtypes: float64(2), int64(2), object(10)\n",
      "memory usage: 2.0+ MB\n",
      "None\n"
     ]
    },
    {
     "data": {
      "text/html": [
       "<div>\n",
       "<style scoped>\n",
       "    .dataframe tbody tr th:only-of-type {\n",
       "        vertical-align: middle;\n",
       "    }\n",
       "\n",
       "    .dataframe tbody tr th {\n",
       "        vertical-align: top;\n",
       "    }\n",
       "\n",
       "    .dataframe thead th {\n",
       "        text-align: right;\n",
       "    }\n",
       "</style>\n",
       "<table border=\"1\" class=\"dataframe\">\n",
       "  <thead>\n",
       "    <tr style=\"text-align: right;\">\n",
       "      <th></th>\n",
       "      <th>student_id</th>\n",
       "      <th>city</th>\n",
       "      <th>city_development_index</th>\n",
       "      <th>gender</th>\n",
       "      <th>relevant_experience</th>\n",
       "      <th>enrolled_university</th>\n",
       "      <th>education_level</th>\n",
       "      <th>major_discipline</th>\n",
       "      <th>experience</th>\n",
       "      <th>company_size</th>\n",
       "      <th>company_type</th>\n",
       "      <th>last_new_job</th>\n",
       "      <th>training_hours</th>\n",
       "      <th>job_change</th>\n",
       "    </tr>\n",
       "  </thead>\n",
       "  <tbody>\n",
       "    <tr>\n",
       "      <th>0</th>\n",
       "      <td>8949</td>\n",
       "      <td>city_103</td>\n",
       "      <td>0.920</td>\n",
       "      <td>Male</td>\n",
       "      <td>Has relevant experience</td>\n",
       "      <td>no_enrollment</td>\n",
       "      <td>Graduate</td>\n",
       "      <td>STEM</td>\n",
       "      <td>&gt;20</td>\n",
       "      <td>NaN</td>\n",
       "      <td>NaN</td>\n",
       "      <td>1</td>\n",
       "      <td>36</td>\n",
       "      <td>1.0</td>\n",
       "    </tr>\n",
       "    <tr>\n",
       "      <th>1</th>\n",
       "      <td>29725</td>\n",
       "      <td>city_40</td>\n",
       "      <td>0.776</td>\n",
       "      <td>Male</td>\n",
       "      <td>No relevant experience</td>\n",
       "      <td>no_enrollment</td>\n",
       "      <td>Graduate</td>\n",
       "      <td>STEM</td>\n",
       "      <td>15</td>\n",
       "      <td>50-99</td>\n",
       "      <td>Pvt Ltd</td>\n",
       "      <td>&gt;4</td>\n",
       "      <td>47</td>\n",
       "      <td>0.0</td>\n",
       "    </tr>\n",
       "    <tr>\n",
       "      <th>2</th>\n",
       "      <td>11561</td>\n",
       "      <td>city_21</td>\n",
       "      <td>0.624</td>\n",
       "      <td>NaN</td>\n",
       "      <td>No relevant experience</td>\n",
       "      <td>Full time course</td>\n",
       "      <td>Graduate</td>\n",
       "      <td>STEM</td>\n",
       "      <td>5</td>\n",
       "      <td>NaN</td>\n",
       "      <td>NaN</td>\n",
       "      <td>never</td>\n",
       "      <td>83</td>\n",
       "      <td>0.0</td>\n",
       "    </tr>\n",
       "    <tr>\n",
       "      <th>3</th>\n",
       "      <td>33241</td>\n",
       "      <td>city_115</td>\n",
       "      <td>0.789</td>\n",
       "      <td>NaN</td>\n",
       "      <td>No relevant experience</td>\n",
       "      <td>NaN</td>\n",
       "      <td>Graduate</td>\n",
       "      <td>Business Degree</td>\n",
       "      <td>&lt;1</td>\n",
       "      <td>NaN</td>\n",
       "      <td>Pvt Ltd</td>\n",
       "      <td>never</td>\n",
       "      <td>52</td>\n",
       "      <td>1.0</td>\n",
       "    </tr>\n",
       "    <tr>\n",
       "      <th>4</th>\n",
       "      <td>666</td>\n",
       "      <td>city_162</td>\n",
       "      <td>0.767</td>\n",
       "      <td>Male</td>\n",
       "      <td>Has relevant experience</td>\n",
       "      <td>no_enrollment</td>\n",
       "      <td>Masters</td>\n",
       "      <td>STEM</td>\n",
       "      <td>&gt;20</td>\n",
       "      <td>50-99</td>\n",
       "      <td>Funded Startup</td>\n",
       "      <td>4</td>\n",
       "      <td>8</td>\n",
       "      <td>0.0</td>\n",
       "    </tr>\n",
       "  </tbody>\n",
       "</table>\n",
       "</div>"
      ],
      "text/plain": [
       "   student_id      city  city_development_index gender  \\\n",
       "0        8949  city_103                   0.920   Male   \n",
       "1       29725   city_40                   0.776   Male   \n",
       "2       11561   city_21                   0.624    NaN   \n",
       "3       33241  city_115                   0.789    NaN   \n",
       "4         666  city_162                   0.767   Male   \n",
       "\n",
       "       relevant_experience enrolled_university education_level  \\\n",
       "0  Has relevant experience       no_enrollment        Graduate   \n",
       "1   No relevant experience       no_enrollment        Graduate   \n",
       "2   No relevant experience    Full time course        Graduate   \n",
       "3   No relevant experience                 NaN        Graduate   \n",
       "4  Has relevant experience       no_enrollment         Masters   \n",
       "\n",
       "  major_discipline experience company_size    company_type last_new_job  \\\n",
       "0             STEM        >20          NaN             NaN            1   \n",
       "1             STEM         15        50-99         Pvt Ltd           >4   \n",
       "2             STEM          5          NaN             NaN        never   \n",
       "3  Business Degree         <1          NaN         Pvt Ltd        never   \n",
       "4             STEM        >20        50-99  Funded Startup            4   \n",
       "\n",
       "   training_hours  job_change  \n",
       "0              36         1.0  \n",
       "1              47         0.0  \n",
       "2              83         0.0  \n",
       "3              52         1.0  \n",
       "4               8         0.0  "
      ]
     },
     "execution_count": 3,
     "metadata": {},
     "output_type": "execute_result"
    }
   ],
   "source": [
    "# Load and inspect data\n",
    "ds_jobs = pd.read_csv(\"customer_train.csv\")\n",
    "print(ds_jobs.info())\n",
    "ds_jobs.head()"
   ]
  },
  {
   "cell_type": "markdown",
   "metadata": {},
   "source": [
    "Let's make a copy of `ds_jobs` data frame before proceeding with any data transformation."
   ]
  },
  {
   "cell_type": "code",
   "execution_count": 20,
   "metadata": {},
   "outputs": [],
   "source": [
    "# Create a copy of ds_jobs for transforming\n",
    "ds_jobs_transformed = ds_jobs.copy()"
   ]
  },
  {
   "cell_type": "markdown",
   "metadata": {},
   "source": [
    "## Convert all `object` data type to `category` data type"
   ]
  },
  {
   "cell_type": "markdown",
   "metadata": {},
   "source": [
    "The `category` dtype has some advantages over the `object` (literal string) dtype. For example, it saves memory (this is especially useful when dealing with large datasets) and allows us to easily manipulate data (by using the array of Pandas methods specific to the `category` data type)."
   ]
  },
  {
   "cell_type": "code",
   "execution_count": 21,
   "metadata": {},
   "outputs": [],
   "source": [
    "ds_jobs_transformed[ds_jobs_transformed.select_dtypes(include=\"object\").columns] = ds_jobs_transformed.select_dtypes(\n",
    "    include=\"object\").astype(\"category\")"
   ]
  },
  {
   "cell_type": "markdown",
   "metadata": {},
   "source": [
    "## Convert integers and floats to `int32` and `float16` dtypes"
   ]
  },
  {
   "cell_type": "code",
   "execution_count": 22,
   "metadata": {},
   "outputs": [],
   "source": [
    "ds_jobs_transformed[\"student_id\"] = ds_jobs_transformed[\"student_id\"].astype(\"int32\")\n",
    "ds_jobs_transformed[\"training_hours\"] = ds_jobs_transformed[\"training_hours\"].astype(\"int32\")\n",
    "ds_jobs_transformed[\"city_development_index\"] = ds_jobs_transformed[\"city_development_index\"].astype(\"float16\")\n",
    "ds_jobs_transformed[\"job_change\"] = ds_jobs_transformed[\"job_change\"].astype(\"float16\")"
   ]
  },
  {
   "cell_type": "markdown",
   "metadata": {},
   "source": [
    "## Convert columns containing categories with only two factors to Boolean data type"
   ]
  },
  {
   "cell_type": "code",
   "execution_count": 24,
   "metadata": {},
   "outputs": [
    {
     "data": {
      "text/plain": [
       "student_id                19158\n",
       "city                        123\n",
       "city_development_index       93\n",
       "gender                        3\n",
       "relevant_experience           2\n",
       "enrolled_university           3\n",
       "education_level               5\n",
       "major_discipline              6\n",
       "experience                   22\n",
       "company_size                  8\n",
       "company_type                  6\n",
       "last_new_job                  6\n",
       "training_hours              241\n",
       "job_change                    2\n",
       "dtype: int64"
      ]
     },
     "execution_count": 24,
     "metadata": {},
     "output_type": "execute_result"
    }
   ],
   "source": [
    "ds_jobs_transformed.nunique()"
   ]
  },
  {
   "cell_type": "markdown",
   "metadata": {},
   "source": [
    "We see from the output above that the relevant columns are `relevant_experience` and `job_change`."
   ]
  },
  {
   "cell_type": "code",
   "execution_count": 23,
   "metadata": {},
   "outputs": [],
   "source": [
    "ds_jobs_transformed[\"relevant_experience\"] = np.where(\n",
    "    ds_jobs_transformed[\"relevant_experience\"].str.contains(\"Has\", regex=False),\n",
    "    1, 0\n",
    ").astype(\"bool\")\n",
    "ds_jobs_transformed[\"job_change\"] = ds_jobs_transformed[\"job_change\"].astype(\"bool\")"
   ]
  },
  {
   "cell_type": "markdown",
   "metadata": {},
   "source": [
    "This is the current state of our data:"
   ]
  },
  {
   "cell_type": "code",
   "execution_count": 25,
   "metadata": {},
   "outputs": [
    {
     "name": "stdout",
     "output_type": "stream",
     "text": [
      "<class 'pandas.core.frame.DataFrame'>\n",
      "RangeIndex: 19158 entries, 0 to 19157\n",
      "Data columns (total 14 columns):\n",
      "student_id                19158 non-null int32\n",
      "city                      19158 non-null category\n",
      "city_development_index    19158 non-null float16\n",
      "gender                    14650 non-null category\n",
      "relevant_experience       19158 non-null bool\n",
      "enrolled_university       18772 non-null category\n",
      "education_level           18698 non-null category\n",
      "major_discipline          16345 non-null category\n",
      "experience                19093 non-null category\n",
      "company_size              13220 non-null category\n",
      "company_type              13018 non-null category\n",
      "last_new_job              18735 non-null category\n",
      "training_hours            19158 non-null int32\n",
      "job_change                19158 non-null bool\n",
      "dtypes: bool(2), category(9), float16(1), int32(2)\n",
      "memory usage: 401.1 KB\n"
     ]
    }
   ],
   "source": [
    "ds_jobs_transformed.info()"
   ]
  },
  {
   "cell_type": "markdown",
   "metadata": {},
   "source": [
    "## Make ordinal categorical columns ordered"
   ]
  },
  {
   "cell_type": "markdown",
   "metadata": {},
   "source": [
    "The ordinal categorical columns include `education_level`, `experience`, `company_size`, `last_new_job` and `enrolled_university`."
   ]
  },
  {
   "cell_type": "code",
   "execution_count": 26,
   "metadata": {},
   "outputs": [
    {
     "data": {
      "text/plain": [
       "CategoricalDtype(categories=['Graduate', 'High School', 'Masters', 'Phd',\n",
       "                  'Primary School'],\n",
       "                 ordered=False)"
      ]
     },
     "execution_count": 26,
     "metadata": {},
     "output_type": "execute_result"
    }
   ],
   "source": [
    "# Before ordering\n",
    "ds_jobs_transformed[\"education_level\"].dtype"
   ]
  },
  {
   "cell_type": "code",
   "execution_count": 27,
   "metadata": {},
   "outputs": [
    {
     "data": {
      "text/plain": [
       "CategoricalDtype(categories=['Primary School', 'High School', 'Graduate', 'Masters',\n",
       "                  'Phd'],\n",
       "                 ordered=True)"
      ]
     },
     "execution_count": 27,
     "metadata": {},
     "output_type": "execute_result"
    }
   ],
   "source": [
    "# order education_level\n",
    "ordered_categories = [\"Primary School\", \"High School\", \"Graduate\", \"Masters\", \"Phd\"]\n",
    "ds_jobs_transformed[\"education_level\"].cat.reorder_categories(\n",
    "    new_categories=ordered_categories, ordered=True, inplace=True\n",
    ")\n",
    "ds_jobs_transformed[\"education_level\"].dtype"
   ]
  },
  {
   "cell_type": "code",
   "execution_count": 28,
   "metadata": {},
   "outputs": [],
   "source": [
    "# Order the rest of the columns\n",
    "\n",
    "# experience\n",
    "experience_order = [str(i) for i in range(1, 21)]\n",
    "experience_order.append(\">20\")\n",
    "experience_order.insert(0, \"<1\")\n",
    "ds_jobs_transformed[\"experience\"].cat.reorder_categories(\n",
    "    new_categories=experience_order, ordered=True, inplace=True\n",
    ")\n",
    "\n",
    "# company_size\n",
    "comp_size_order = ['<10', '10-49', '50-99', '100-499', '500-999', '1000-4999', '5000-9999', '10000+']\n",
    "ds_jobs_transformed[\"company_size\"].cat.reorder_categories(\n",
    "    new_categories=comp_size_order, ordered=True, inplace=True\n",
    ")\n",
    "\n",
    "# last_new_job\n",
    "last_new_job_order = ['never', '1', '2', '3', '4', '>4']\n",
    "ds_jobs_transformed[\"last_new_job\"].cat.reorder_categories(\n",
    "    new_categories=last_new_job_order, ordered=True, inplace=True\n",
    ")\n",
    "\n",
    "# enrolled_university\n",
    "enr_uni_order = ['no_enrollment', 'Part time course', 'Full time course']\n",
    "ds_jobs_transformed[\"enrolled_university\"].cat.reorder_categories(\n",
    "    new_categories=enr_uni_order, ordered=True, inplace=True\n",
    ")"
   ]
  },
  {
   "cell_type": "markdown",
   "metadata": {},
   "source": [
    "## Keep students with at least 10 years of experience working at companies with at least 1000 employees"
   ]
  },
  {
   "cell_type": "markdown",
   "metadata": {},
   "source": [
    "Because our `experience` and `company_size` columns are ordered, it's possible to filter them just the same way we would numerical columns. This is another advantage of (ordinal) categorical data."
   ]
  },
  {
   "cell_type": "code",
   "execution_count": 29,
   "metadata": {},
   "outputs": [],
   "source": [
    "ds_jobs_transformed = ds_jobs_transformed[\n",
    "    (ds_jobs_transformed[\"experience\"] > \"9\") & (ds_jobs_transformed[\"company_size\"] > \"500-999\")]"
   ]
  },
  {
   "cell_type": "markdown",
   "metadata": {},
   "source": [
    "## Compare `ds_jobs` and `ds_jobs_transformed`"
   ]
  },
  {
   "cell_type": "code",
   "execution_count": 33,
   "metadata": {},
   "outputs": [
    {
     "name": "stdout",
     "output_type": "stream",
     "text": [
      "Index                         80\n",
      "student_id                153264\n",
      "city                      153264\n",
      "city_development_index    153264\n",
      "gender                    153264\n",
      "relevant_experience       153264\n",
      "enrolled_university       153264\n",
      "education_level           153264\n",
      "major_discipline          153264\n",
      "experience                153264\n",
      "company_size              153264\n",
      "company_type              153264\n",
      "last_new_job              153264\n",
      "training_hours            153264\n",
      "job_change                153264\n",
      "dtype: int64\n",
      "\n"
     ]
    },
    {
     "data": {
      "text/plain": [
       "Index                     17608\n",
       "student_id                 8804\n",
       "city                       8305\n",
       "city_development_index     4402\n",
       "gender                     2305\n",
       "relevant_experience        2201\n",
       "enrolled_university        2305\n",
       "education_level            2401\n",
       "major_discipline           2409\n",
       "experience                 3017\n",
       "company_size               2585\n",
       "company_type               2409\n",
       "last_new_job               2409\n",
       "training_hours             8804\n",
       "job_change                 2201\n",
       "dtype: int64"
      ]
     },
     "execution_count": 33,
     "metadata": {},
     "output_type": "execute_result"
    }
   ],
   "source": [
    "print(ds_jobs.memory_usage())\n",
    "print()\n",
    "ds_jobs_transformed.memory_usage()"
   ]
  },
  {
   "cell_type": "markdown",
   "metadata": {},
   "source": [
    "Notice the difference in the amount of memory used by each column in the respective data frames."
   ]
  },
  {
   "cell_type": "code",
   "execution_count": 35,
   "metadata": {},
   "outputs": [
    {
     "name": "stdout",
     "output_type": "stream",
     "text": [
      "<class 'pandas.core.frame.DataFrame'>\n",
      "RangeIndex: 19158 entries, 0 to 19157\n",
      "Data columns (total 14 columns):\n",
      "student_id                19158 non-null int64\n",
      "city                      19158 non-null object\n",
      "city_development_index    19158 non-null float64\n",
      "gender                    14650 non-null object\n",
      "relevant_experience       19158 non-null object\n",
      "enrolled_university       18772 non-null object\n",
      "education_level           18698 non-null object\n",
      "major_discipline          16345 non-null object\n",
      "experience                19093 non-null object\n",
      "company_size              13220 non-null object\n",
      "company_type              13018 non-null object\n",
      "last_new_job              18735 non-null object\n",
      "training_hours            19158 non-null int64\n",
      "job_change                19158 non-null float64\n",
      "dtypes: float64(2), int64(2), object(10)\n",
      "memory usage: 2.0+ MB\n",
      "None\n",
      "\n",
      "<class 'pandas.core.frame.DataFrame'>\n",
      "Int64Index: 2201 entries, 9 to 19143\n",
      "Data columns (total 14 columns):\n",
      "student_id                2201 non-null int32\n",
      "city                      2201 non-null category\n",
      "city_development_index    2201 non-null float16\n",
      "gender                    1821 non-null category\n",
      "relevant_experience       2201 non-null bool\n",
      "enrolled_university       2185 non-null category\n",
      "education_level           2184 non-null category\n",
      "major_discipline          2097 non-null category\n",
      "experience                2201 non-null category\n",
      "company_size              2201 non-null category\n",
      "company_type              2144 non-null category\n",
      "last_new_job              2184 non-null category\n",
      "training_hours            2201 non-null int32\n",
      "job_change                2201 non-null bool\n",
      "dtypes: bool(2), category(9), float16(1), int32(2)\n",
      "memory usage: 70.5 KB\n"
     ]
    }
   ],
   "source": [
    "print(ds_jobs.info())\n",
    "print()\n",
    "ds_jobs_transformed.info()"
   ]
  },
  {
   "cell_type": "markdown",
   "metadata": {},
   "source": [
    "`ds_jobs_transformed` uses 28 times less memory than `ds_jobs`. Granted, the transformed data is much smaller because we filtered out some entries, but even with those entries there's still a large amount of memory saved. You can check this for yourself if you're curious."
   ]
  },
  {
   "cell_type": "code",
   "execution_count": null,
   "metadata": {},
   "outputs": [],
   "source": []
  }
 ],
 "metadata": {
  "kernelspec": {
   "display_name": "Python 3",
   "language": "python",
   "name": "python3"
  },
  "language_info": {
   "codemirror_mode": {
    "name": "ipython",
    "version": 3
   },
   "file_extension": ".py",
   "mimetype": "text/x-python",
   "name": "python",
   "nbconvert_exporter": "python",
   "pygments_lexer": "ipython3",
   "version": "3.7.3"
  }
 },
 "nbformat": 4,
 "nbformat_minor": 2
}
