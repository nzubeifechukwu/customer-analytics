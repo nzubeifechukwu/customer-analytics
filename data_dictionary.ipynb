{
 "cells": [
  {
   "cell_type": "markdown",
   "metadata": {},
   "source": [
    "# Data Dictionary"
   ]
  },
  {
   "cell_type": "markdown",
   "metadata": {},
   "source": [
    "Below is a summary of the features in the `customer_train.csv` file:"
   ]
  },
  {
   "cell_type": "markdown",
   "metadata": {},
   "source": [
    "| Column                   | Description                                                                      |\n",
    "|:------------------------- |:--------------------------------------------------------------------------------- |\n",
    "| `student_id`             | A unique ID for each student.                                                    |\n",
    "| `city`                   | A code for the city the student lives in.                                        |\n",
    "| `city_development_index` | A scaled development index for the city.                                         |\n",
    "| `gender`                 | The student's gender.                                                            |\n",
    "| `relevant_experience`    | An indicator of the student's work relevant experience.                          |\n",
    "| `enrolled_university`    | The type of university course enrolled in (if any).                              |\n",
    "| `education_level`        | The student's education level.                                                   |\n",
    "| `major_discipline`       | The educational discipline of the student.                                       |\n",
    "| `experience`             | The student's total work experience (in years).                                  |\n",
    "| `company_size`           | The number of employees at the student's current employer.                       |\n",
    "| `company_type`           | The type of company employing the student.                                       |\n",
    "| `last_new_job`           | The number of years between the student's current and previous jobs.             |\n",
    "| `training_hours`         | The number of hours of training completed.                                       |\n",
    "| `job_change`             | An indicator of whether the student is looking for a new job (`1`) or not (`0`). |"
   ]
  },
  {
   "cell_type": "code",
   "execution_count": null,
   "metadata": {},
   "outputs": [],
   "source": []
  }
 ],
 "metadata": {
  "kernelspec": {
   "display_name": "Python 3",
   "language": "python",
   "name": "python3"
  },
  "language_info": {
   "codemirror_mode": {
    "name": "ipython",
    "version": 3
   },
   "file_extension": ".py",
   "mimetype": "text/x-python",
   "name": "python",
   "nbconvert_exporter": "python",
   "pygments_lexer": "ipython3",
   "version": "3.7.3"
  }
 },
 "nbformat": 4,
 "nbformat_minor": 2
}
